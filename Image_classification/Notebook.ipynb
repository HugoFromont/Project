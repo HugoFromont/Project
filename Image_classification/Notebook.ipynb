{
  "nbformat": 4,
  "nbformat_minor": 0,
  "metadata": {
    "colab": {
      "name": "Untitled0.ipynb",
      "provenance": [],
      "authorship_tag": "ABX9TyNWgd2BC/TbEEmLRY2lUjoQ",
      "include_colab_link": true
    },
    "kernelspec": {
      "name": "python3",
      "display_name": "Python 3"
    }
  },
  "cells": [
    {
      "cell_type": "markdown",
      "metadata": {
        "id": "view-in-github",
        "colab_type": "text"
      },
      "source": [
        "<a href=\"https://colab.research.google.com/github/HugoFromont/Project/blob/master/Image_classification/Notebook.ipynb\" target=\"_parent\"><img src=\"https://colab.research.google.com/assets/colab-badge.svg\" alt=\"Open In Colab\"/></a>"
      ]
    },
    {
      "cell_type": "markdown",
      "metadata": {
        "id": "hYMydD12gE6W",
        "colab_type": "text"
      },
      "source": [
        "# Classification d'images"
      ]
    },
    {
      "cell_type": "code",
      "metadata": {
        "id": "VULCY93Ed-MV",
        "colab_type": "code",
        "colab": {}
      },
      "source": [
        "import pandas as pd\n",
        "import numpy as np\n",
        "import os\n",
        "from PIL import Image\n",
        "import matplotlib.pyplot as plt\n",
        "import tensorflow as tf\n",
        "\n",
        "from google.colab import drive\n",
        "drive.mount('/content/gdrive')"
      ],
      "execution_count": null,
      "outputs": []
    },
    {
      "cell_type": "markdown",
      "metadata": {
        "id": "pPF-e2I6eCCj",
        "colab_type": "text"
      },
      "source": [
        "## Importation des données"
      ]
    },
    {
      "cell_type": "code",
      "metadata": {
        "id": "truHEvUneEkF",
        "colab_type": "code",
        "colab": {}
      },
      "source": [
        "!unzip '/content/gdrive/My Drive/data_google_colab/Dogs_vs_Cats/train.zip'\n",
        "\n",
        "files = os.listdir(\"/content/train/\")\n",
        "files[:4]"
      ],
      "execution_count": null,
      "outputs": []
    },
    {
      "cell_type": "code",
      "metadata": {
        "id": "mfpV-9PleJmn",
        "colab_type": "code",
        "colab": {}
      },
      "source": [
        "# Echantillonnage\n",
        "from sklearn.model_selection import train_test_split\n",
        "\n",
        "train, valid = train_test_split(files, test_size=0.2, random_state=123)\n",
        "\n",
        "train = pd.DataFrame(train, columns = ['id'])\n",
        "valid = pd.DataFrame(valid, columns = ['id'])\n",
        "\n",
        "# Création du label\n",
        "def create_label(id):\n",
        "  return('1' if 'cat' in id else '0')\n",
        "\n",
        "train['label'] = train.id.apply(create_label)\n",
        "valid['label'] = valid.id.apply(create_label)\n",
        "\n",
        "train.head()"
      ],
      "execution_count": null,
      "outputs": []
    },
    {
      "cell_type": "markdown",
      "metadata": {
        "id": "dHjKKM2XeY6d",
        "colab_type": "text"
      },
      "source": [
        "## Création du modèle"
      ]
    },
    {
      "cell_type": "markdown",
      "metadata": {
        "id": "hCdo_SgAecIt",
        "colab_type": "text"
      },
      "source": [
        "### Construction d'un CNN"
      ]
    },
    {
      "cell_type": "code",
      "metadata": {
        "id": "COCnIGWDeYZU",
        "colab_type": "code",
        "colab": {}
      },
      "source": [
        "input_img = tf.keras.Input(shape=(112,112,3))\n",
        "x = tf.keras.layers.Conv2D(16, (3, 3), padding='same', activation='relu')(input_img)\n",
        "x = tf.keras.layers.MaxPooling2D((2, 2))(x)\n",
        "\n",
        "x = tf.keras.layers.Conv2D(32, (3, 3), padding='same', activation='relu')(x)\n",
        "x = tf.keras.layers.MaxPooling2D((2, 2))(x)\n",
        "\n",
        "x = tf.keras.layers.Conv2D(64, (3, 3), padding='same', activation='relu')(x)\n",
        "x = tf.keras.layers.MaxPooling2D((2, 2))(x)\n",
        "\n",
        "x = tf.keras.layers.Conv2D(128, (3, 3), padding='same', activation='relu')(x)\n",
        "x = tf.keras.layers.MaxPooling2D((2, 2))(x)\n",
        "\n",
        "x = tf.keras.layers.Flatten()(x)\n",
        "x = tf.keras.layers.Dense(500)(x)\n",
        "x = tf.keras.layers.Dense(1, activation = \"sigmoid\")(x)\n",
        "\n",
        "model = tf.keras.Model(input_img, x)\n",
        "\n",
        "optimizer = tf.keras.optimizers.Adam()\n",
        "loss = tf.keras.losses.BinaryCrossentropy()\n",
        "\n",
        "model.compile(loss=loss, \n",
        "              optimizer=optimizer,\n",
        "              metrics=['accuracy'])\n",
        "\n",
        "model.summary()"
      ],
      "execution_count": null,
      "outputs": []
    },
    {
      "cell_type": "markdown",
      "metadata": {
        "id": "QIfGvF1KeiPn",
        "colab_type": "text"
      },
      "source": [
        "### Entraînement du modèle"
      ]
    },
    {
      "cell_type": "code",
      "metadata": {
        "id": "6b0RxtJ5ezww",
        "colab_type": "code",
        "colab": {}
      },
      "source": [
        "train_datagen = tf.keras.preprocessing.image.ImageDataGenerator(rescale=1./255)\n",
        "train_generator = train_datagen.flow_from_dataframe(\n",
        "    train, \n",
        "    \"train/\", \n",
        "    x_col='id',\n",
        "    y_col='label',\n",
        "    target_size=((112,112)),\n",
        "    class_mode='binary',\n",
        "    batch_size=100\n",
        ")\n",
        "\n",
        "validation_datagen = tf.keras.preprocessing.image.ImageDataGenerator(rescale=1./255)\n",
        "validation_generator = validation_datagen.flow_from_dataframe(\n",
        "    valid, \n",
        "    \"train/\", \n",
        "    x_col='id',\n",
        "    y_col='label',\n",
        "    target_size=((112,112)),\n",
        "    class_mode='binary',\n",
        "    batch_size=100\n",
        ")"
      ],
      "execution_count": null,
      "outputs": []
    },
    {
      "cell_type": "code",
      "metadata": {
        "id": "jzv_SpNSe6Kc",
        "colab_type": "code",
        "colab": {}
      },
      "source": [
        "history_M1 = model.fit_generator(\n",
        "    train_generator, \n",
        "    epochs=100,\n",
        "    validation_data=validation_generator,\n",
        "    shuffle = True\n",
        ")"
      ],
      "execution_count": null,
      "outputs": []
    },
    {
      "cell_type": "markdown",
      "metadata": {
        "id": "R-gNl4Rie-FI",
        "colab_type": "text"
      },
      "source": [
        "## Ajout de régularisation"
      ]
    },
    {
      "cell_type": "markdown",
      "metadata": {
        "id": "uMlH3w8jfAZd",
        "colab_type": "text"
      },
      "source": [
        "### Drop Out"
      ]
    },
    {
      "cell_type": "code",
      "metadata": {
        "id": "7UlHa4htfC-F",
        "colab_type": "code",
        "colab": {}
      },
      "source": [
        "input_img = tf.keras.Input(shape=(112,112,3))\n",
        "x = tf.keras.layers.Conv2D(16, (3, 3), padding='same', activation='relu')(input_img)\n",
        "x = tf.keras.layers.MaxPooling2D((2, 2))(x)\n",
        "x = tf.keras.layers.Dropout(0.3)(x)\n",
        "\n",
        "x = tf.keras.layers.Conv2D(32, (3, 3), padding='same', activation='relu')(x)\n",
        "x = tf.keras.layers.MaxPooling2D((2, 2))(x)\n",
        "x = tf.keras.layers.Dropout(0.3)(x)\n",
        "\n",
        "x = tf.keras.layers.Conv2D(64, (3, 3), padding='same', activation='relu')(x)\n",
        "x = tf.keras.layers.MaxPooling2D((2, 2))(x)\n",
        "x = tf.keras.layers.Dropout(0.3)(x)\n",
        "\n",
        "x = tf.keras.layers.Conv2D(128, (3, 3), padding='same', activation='relu')(x)\n",
        "x = tf.keras.layers.MaxPooling2D((2, 2))(x)\n",
        "x = tf.keras.layers.Dropout(0.3)(x)\n",
        "\n",
        "x = tf.keras.layers.Flatten()(x)\n",
        "x = tf.keras.layers.Dense(500)(x)\n",
        "x = tf.keras.layers.Dropout(0.5)(x)\n",
        "x = tf.keras.layers.Dense(1, activation = \"sigmoid\")(x)\n",
        "\n",
        "model = tf.keras.Model(input_img, x)\n",
        "\n",
        "optimizer = tf.keras.optimizers.Adam()\n",
        "loss = tf.keras.losses.BinaryCrossentropy()\n",
        "\n",
        "model.compile(loss=loss, \n",
        "              optimizer=optimizer,\n",
        "              metrics=['accuracy'])\n",
        "\n",
        "model.summary()"
      ],
      "execution_count": null,
      "outputs": []
    },
    {
      "cell_type": "code",
      "metadata": {
        "id": "Epwzi6SGfDBW",
        "colab_type": "code",
        "colab": {}
      },
      "source": [
        "history_M3 = model.fit_generator(\n",
        "    train_generator, \n",
        "    epochs=100,\n",
        "    validation_data=validation_generator,\n",
        "    shuffle = True\n",
        ")"
      ],
      "execution_count": null,
      "outputs": []
    },
    {
      "cell_type": "markdown",
      "metadata": {
        "id": "-QosJPvufNPn",
        "colab_type": "text"
      },
      "source": [
        "### Pré-procesing"
      ]
    },
    {
      "cell_type": "code",
      "metadata": {
        "id": "pqnCrTMdfDG2",
        "colab_type": "code",
        "colab": {}
      },
      "source": [
        "train_datagen = tf.keras.preprocessing.image.ImageDataGenerator(\n",
        "    rotation_range=15,\n",
        "    rescale=1./255,\n",
        "    shear_range=0.1,\n",
        "    zoom_range=0.2,\n",
        "    horizontal_flip=True,\n",
        "    width_shift_range=0.1,\n",
        "    height_shift_range=0.1\n",
        ")\n",
        "\n",
        "train_generator = train_datagen.flow_from_dataframe(\n",
        "    train, \n",
        "    \"train/\", \n",
        "    x_col='id',\n",
        "    y_col='label',\n",
        "    target_size=((112,112)),\n",
        "    class_mode='binary',\n",
        "    batch_size=100\n",
        ")\n",
        "\n",
        "validation_datagen = tf.keras.preprocessing.image.ImageDataGenerator(rescale=1./255)\n",
        "validation_generator = validation_datagen.flow_from_dataframe(\n",
        "    valid, \n",
        "    \"train/\", \n",
        "    x_col='id',\n",
        "    y_col='label',\n",
        "    target_size=((112,112)),\n",
        "    class_mode='binary',\n",
        "    batch_size=100\n",
        ")"
      ],
      "execution_count": null,
      "outputs": []
    },
    {
      "cell_type": "code",
      "metadata": {
        "id": "jsA72I9DfDMF",
        "colab_type": "code",
        "colab": {}
      },
      "source": [
        "history_M2 = model.fit_generator(\n",
        "    train_generator, \n",
        "    epochs=100,\n",
        "    validation_data=validation_generator,\n",
        "    shuffle = True,\n",
        "    callbacks=[cp_callback]\n",
        ")"
      ],
      "execution_count": null,
      "outputs": []
    },
    {
      "cell_type": "markdown",
      "metadata": {
        "id": "jLE86SpOfXFQ",
        "colab_type": "text"
      },
      "source": [
        "## Transfert Learning"
      ]
    },
    {
      "cell_type": "code",
      "metadata": {
        "id": "zrR-tHdTfa-W",
        "colab_type": "code",
        "colab": {}
      },
      "source": [
        "pre_training_model = tf.keras.applications.InceptionResNetV2(weights='imagenet', include_top=False, input_shape=(112,112,3))\n",
        "\n",
        "model = tf.keras.models.Sequential()\n",
        "model.add(pre_training_model)\n",
        "model.add(tf.keras.layers.Flatten())\n",
        "model.add(tf.keras.layers.Dense(256, activation='relu'))\n",
        "model.add(tf.keras.layers.Dense(1, activation='sigmoid'))\n",
        "\n",
        "model.compile(loss='binary_crossentropy', optimizer=tf.keras.optimizers.Adam(), metrics=['acc'])\n",
        "\n",
        "model.summary()"
      ],
      "execution_count": null,
      "outputs": []
    },
    {
      "cell_type": "code",
      "metadata": {
        "id": "vmAksj4DfDUQ",
        "colab_type": "code",
        "colab": {}
      },
      "source": [
        "train_datagen = tf.keras.preprocessing.image.ImageDataGenerator(\n",
        "    rotation_range=15,\n",
        "    rescale=1./255,\n",
        "    shear_range=0.1,\n",
        "    zoom_range=0.2,\n",
        "    horizontal_flip=True,\n",
        "    width_shift_range=0.1,\n",
        "    height_shift_range=0.1\n",
        ")\n",
        "\n",
        "valid_datagen = tf.keras.preprocessing.image.ImageDataGenerator(\n",
        "    rescale=1./255\n",
        ")"
      ],
      "execution_count": null,
      "outputs": []
    },
    {
      "cell_type": "code",
      "metadata": {
        "id": "AqcLfXY_fDRV",
        "colab_type": "code",
        "colab": {}
      },
      "source": [
        "model.fit_generator(train_datagen.flow(features,targets, batch_size=65),\n",
        "                    steps_per_epoch=len(targets)/65, epochs=3,\n",
        "                    shuffle = True, \n",
        "                    validation_data = valid_datagen.flow(valid_features, valid_targets, batch_size=65)\n",
        "                    )"
      ],
      "execution_count": null,
      "outputs": []
    }
  ]
}